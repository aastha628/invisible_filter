{
 "metadata": {
  "language_info": {
   "codemirror_mode": {
    "name": "ipython",
    "version": 3
   },
   "file_extension": ".py",
   "mimetype": "text/x-python",
   "name": "python",
   "nbconvert_exporter": "python",
   "pygments_lexer": "ipython3",
   "version": 3
  },
  "orig_nbformat": 2
 },
 "nbformat": 4,
 "nbformat_minor": 2,
 "cells": [
  {
   "cell_type": "code",
   "execution_count": null,
   "metadata": {},
   "outputs": [],
   "source": [
    "import human_parsing2.human_parser as human_parser"
   ]
  },
  {
   "cell_type": "code",
   "execution_count": null,
   "metadata": {},
   "outputs": [],
   "source": [
    "import numpy as np\n",
    "from matplotlib import pyplot as plt\n",
    "import cv2 \n",
    "\n",
    "main_img = cv2.imread(\"main_img_filename\")\n",
    "main_img=cv2.cvtColor(main_img,cv2.COLOR_BGR2RGB)\n",
    "plt.imshow(main_img)"
   ]
  },
  {
   "cell_type": "code",
   "execution_count": null,
   "metadata": {},
   "outputs": [],
   "source": [
    "main_img=cv2.resize(main_img,(540,670))\n",
    "plt.imshow(main_img)"
   ]
  },
  {
   "cell_type": "code",
   "execution_count": null,
   "metadata": {},
   "outputs": [],
   "source": [
    "body_parts = human_parser.parse(main_img)\n",
    "print(body_parts)"
   ]
  },
  {
   "cell_type": "code",
   "execution_count": null,
   "metadata": {},
   "outputs": [],
   "source": [
    "\"\"\"\n",
    "CLASSES = ['background(0)', 'hat(1)', 'hair(2)', 'glove(3)', 'sunglasses(4)', 'upperclothes(5)',\n",
    "               'dress(6)', 'coat(7)', 'socks(8)', 'pants(9)', 'tosor-skin(10)', 'scarf(11)', 'skirt(12)',\n",
    "               'face(13)', 'leftArm(14)', 'rightArm(15)', 'leftLeg(16)', 'rightLeg(17)',\n",
    "               'leftShoe(18)', 'rightShoe(19)']\n",
    "\"\"\""
   ]
  },
  {
   "cell_type": "code",
   "execution_count": null,
   "metadata": {},
   "outputs": [],
   "source": [
    "clothes=np.array(np.where(np.isin(body_parts,[1,3,4,5,6,7,8,9,11,12,18,19])))\n",
    "background=np.array(np.where(body_parts==0))"
   ]
  },
  {
   "cell_type": "code",
   "execution_count": null,
   "metadata": {},
   "outputs": [],
   "source": [
    "\n",
    "bg=cv2.imread(\"filename\")\n",
    "bg=cv2.cvtColor(bg,cv2.COLOR_BGR2RGB)\n",
    "bg=cv2.resize(bg,(main_img.shape[1],main_img.shape[0]))\n",
    "plt.imshow(bg)"
   ]
  },
  {
   "cell_type": "code",
   "execution_count": null,
   "metadata": {},
   "outputs": [],
   "source": [
    "main_img[list(background)]=bg[list(background)]\n",
    "plt.imshow(main_img)\n",
    "\n",
    "img=cv2.addWeighted(main_img, 0.6, bg, 0.4, 0)\n",
    "\n",
    "plt.imshow(img)"
   ]
  },
  {
   "cell_type": "code",
   "execution_count": null,
   "metadata": {},
   "outputs": [],
   "source": [
    "img[list(clothes)]=main_img[list(clothes)]\n",
    "\n",
    "plt.imshow(img)"
   ]
  },
  {
   "cell_type": "code",
   "execution_count": null,
   "metadata": {},
   "outputs": [],
   "source": [
    "img=cv2.cvtColor(img,cv2.COLOR_RGB2BGR)\n",
    "cv2.imwrite(\"invisible.png\",img)"
   ]
  }
 ]
}